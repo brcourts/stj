{
 "cells": [
  {
   "cell_type": "code",
   "execution_count": 1,
   "metadata": {},
   "outputs": [],
   "source": [
    "from selenium import webdriver\n",
    "import selenium.webdriver.support.ui as ui\n",
    "import sys\n",
    "import time\n",
    "import os\n",
    "import re"
   ]
  },
  {
   "cell_type": "code",
   "execution_count": 2,
   "metadata": {},
   "outputs": [],
   "source": [
    "def fecha():\n",
    "    driver.close()"
   ]
  },
  {
   "cell_type": "code",
   "execution_count": 3,
   "metadata": {},
   "outputs": [],
   "source": [
    "def pega_recurso():\n",
    "    link = 'https://www.lexml.gov.br/busca/search?keyword=evasao%20fiscal;f1-tipoDocumento=Jurisprud%C3%AAncia'\n",
    "    #https://www.lexml.gov.br/busca/search?keyword=evasao%20fiscal;f1-tipoDocumento=Jurisprud%C3%AAncia\n",
    "    driver.get(link)\n",
    "    list = driver.find_element_by_class_name('docHit').find_elements_by_class_name('col3')\n",
    "    for element in list:\n",
    "        if ( len(element.text) > 133 ):\n",
    "            print(element.text)\n",
    "            print('----')\n",
    "            \n",
    "    return 'OK'"
   ]
  },
  {
   "cell_type": "code",
   "execution_count": 4,
   "metadata": {},
   "outputs": [],
   "source": [
    "driver = webdriver.Firefox( executable_path=r'./geckodriver' )\n",
    "wait = ui.WebDriverWait(driver, 20)\n",
    "# time.sleep(3)"
   ]
  },
  {
   "cell_type": "code",
   "execution_count": 5,
   "metadata": {},
   "outputs": [
    {
     "name": "stdout",
     "output_type": "stream",
     "text": [
      "DIREITO DAS OBRIGAÇÕES, DIREITO TRIBUTÁRIO E DIREITO PROCESSUAL CIVIL. ANTECIPAÇÃO DE TUTELA. REPASSE DO RECOLHIMENTO DIRETO DA CPMF PELAS AGÊNCIAS DE TURISMO PARA AS COMPANHIAS AÉREAS. EVASÃO FISCAL IMPRÓPRIA. ATO PRECÁRIO QUE NÃO GERA DIREITO PORQUE CONTRA LEGEM. VEROSSIMILHANÇA INOCORRENTE DE DIREITO A SOCORRER POR SUPOSTA VIOLAÇÃO CONTRATUAL. 1 - A LEGISLAÇÃO QUE É CLARA AO ESTABELECER QUE O TITULAR DA CONTA CORRENTE É O RESPONSÁVEL PELO PAGAMENTO DA CPMF (LEI N. 9.311/96). 2 - O SAQUE EM CONTA CORRENTE CONSTITUI FATO SUFICIENTE E NECESSÁRIO DE FATO GERADOR DA CPMF, PRODUZINDO OS EFEITOS TRIBUTÁRIOS QUE LHE SÃO PRÓPRIOS (CTN, ARTS. 114 E 116, I). 3 - O CONTRIBUINTE QUE TRANSFERE O ÔNUS DO TRIBUTO A TERCEIRO POR MEIO DE ACERTO CONTRATUAL PRATICA EVASÃO FISCAL IMPRÓPRIA (LÍCITA PORQUE HÁ O RECOLHIMENTO DO TRIBUTO), QUE SE RESOLVE NO PLANO DAS RELAÇÕES DE DIREITO PRIVADO. 4 - NO JUÍZO DE COGNIÇÃO SUMÁRIA PRÓPRIO DO EXAME DAS CONDIÇÕES NECESSÁRIAS À ANTECIPAÇÃO DE TUTELA, PORQUE PRECÁRIA, CONTRA LEGEM E SEM EXPRESSA PACTUAÇÃO, A COMPENSAÇÃO PELAS AGÊNCIAS DE TURISMO DOS DESCONTOS DE SAQUES EFETUADOS EM PAGAMENTO DE \"VENDAS\" DE BILHETES DE PASSAGENS ÀS COMPANHIAS AÉREAS, INDEPENDENTEMENTE DA NATUREZA JURÍDICA DOS CONTRATOS ENTRE AS PARTES, CONSTITUI EVASÃO FISCAL IMPRÓPRIA, PASSÍVEL DE REVISÃO A QUALQUER TEMPO. MERECE, PORTANTO, INDEFERIMENTO A PRETENSÃO DAS AGÊNCIAS DE TURISMO VOLTADA À MANUTENÇÃO DESSA PRÁTICA POR MEIO DE MEDIDA LIMINAR JUDICIAL CALCADA NO ART. 273 DO CPC. 5 - RECURSO CONHECIDO E PROVIDO. UNÂNIME.\n",
      "----\n",
      "APELAÇÃO CÍVEL - EXECUÇÃO FISCAL - VALOR DE PEQUENA MONTA - EXTINÇÃO DO PROCESSO - INTERESSE DE AGIR - PROSSEGUIMENTO DO FEITO. 1.HÁ INTERESSE DE AGIR DA FAZENDA PÚBLICA DO DISTRITO FEDERAL AO COBRAR DÉBITOS FISCAIS INFERIORES A R$1.000,00 (MIL REAIS). A ANÁLISE SOBRE A CONVENIÊNCIA E OPORTUNIDADE DA COBRANÇA NÃO É FEITA PELO JUDICIÁRIO. 2. A EVASÃO FISCAL DEVE SER COIBIDA E A EXECUÇÃO É O MECANISMO MAIS VIÁVEL PARA RECUPERAR OS TRIBUTOS NÃO PAGOS, QUE CAUSAM PREJUÍZOS EXPRESSIVOS AOS COFRES PÚBLICOS. 3.APELO PROVIDO.\n",
      "----\n",
      "Assunto: Normas Gerais de Direito Tributário Ano-calendário: 2005 SIMULAÇÃO. DESCONSIDERAÇÃO DE SEGREGAÇÃO DE PESSOAS JURÍDICAS SIMULADA. DOLO DE EVASÃO FISCAL. Demonstrada a simulação da segregação de fontes de rendimentos em diversas pessoas jurídicas, é legítima a desconsideração da reestruturação societária simulada para a tributação concentrada da única entidade realmente existente (CTN, art. 149). MULTA QUALIFICADA. DEMONSTRAÇÃO DE DOLO PARA A EVASÃO DE TRIBUTOS. Demonstrada a simulação da segregação de fontes de rendimentos, com o dolo de evadir tributos, é legítima a qualificação da multa de ofício. MULTA AGRAVADA. NÃO CABIMENTO. Não há o preenchimento da hipótese de incidência do agravamento da multa se ?houve resposta a todas as intimações feitas pela fiscalização? e ?a apresentação dos arquivos magnéticos em questão em nada alteraria o lançamento afinal efetuado, que se operou sob a forma do lucro arbitrado?.\n",
      "----\n",
      "Assunto: Imposto sobre a Renda de Pessoa Jurídica - IRPJ Ano-calendário: 2005, 2006 LUCROS OBTIDOS POR MEIO DE CONTROLADA NO EXTERIOR. CONVENÇÕES DESTINADAS A EVITAR A DUPLA TRIBUTAÇÃO E PREVENIR A EVASÃO FISCAL EM MATÉRIA DE IMPOSTO SOBRE A RENDA. ART. 74 DA MP Nº 2.158-35/2001. NÃO OFENSA. Não há incompatibilidade entre os Tratados Firmados pelo Brasil para evitar a dupla tributação da renda e a aplicação do art. 74 da Medida Provisória nº 2.158-35/2001, não sendo caso de aplicação do art. 98 do CTN, por inexistência de conflito. Os Tratados firmados pelo Brasil nessas matérias não impedem a tributação na controladora no Brasil dos lucros auferidos por intermédio de suas controladas no exterior.\n",
      "----\n",
      "Assunto: Imposto sobre a Renda de Pessoa Jurídica - IRPJ Ano-calendário: 2006 LUCROS OBTIDOS POR MEIO DE CONTROLADA NO EXTERIOR. CONVENÇÕES DESTINADAS A EVITAR A DUPLA TRIBUTAÇÃO E PREVENIR A EVASÃO FISCAL EM MATÉRIA DE IMPOSTO SOBRE A RENDA. ART. 74 DA MP Nº 2.158-35/2001. NÃO OFENSA. Não há incompatibilidade entre os Tratados Firmados pelo Brasil para evitar a dupla tributação da renda e a aplicação do art. 74 da Medida Provisória nº 2.158-35/2001, não sendo caso de aplicação do art. 98 do CTN, por inexistência de conflito. Os Tratados firmados pelo Brasil nessas matérias não impedem a tributação na controladora no Brasil dos lucros auferidos por intermédio de suas controladas no exterior.\n",
      "----\n",
      "PENAL - TRIBUTÁRIO - EVASÃO FISCAL - COMPRA E VENDA DE VEÍCULOS NOVOS E USADOS SEM A EMISSÃO DE NOTAS FISCAIS - PROVA TÉCNICA ABUNDANTE - CONFISSÃO - PENA CORRETAMENTE FIXADA - RECURSOS CONHECIDOS E IMPROVIDOS. A MATERIALIDADE DO DELITO ESTÁ ESTAMPADA NO AUTO DE INFRAÇÃO LAVRADO PELA FISCALIZAÇÃO TRIBUTÁRIA DO DF, E PELA PERÍCIA TÉCNICA REALIZADA E ASSINADA POR DOIS PERITOS DO IC, ONDE SE DEMONSTRA CLARAMENTE QUE A EMPRESA SACAKURA & SACAKURA REALIZOU INÚMERAS OPERAÇÕES DE COMPRA E VENDA MERCANTIL DE VEÍCULOS NOVOS E USADOS, SEM QUE FOSSE EMITIDA A COMPETENTE NOTA FISCAL, O QUE, CONFIGURA À TODA EVIDÊNCIA, O CRIME DE EVASÃO FISCAL. A AUTORIA NÃO É NEGADA PELO ACUSADO, QUE ADMITE QUE EFETIVAMENTE REALIZOU VENDAS DE VEÍCULOS SEM QUE FOSSEM EMITIDAS AS RESPECTIVAS NOTAS FISCAIS, QUE NO SEU ENTENDER ERA DESNECESSÁRIO, PORQUE AS CONCESSIONÁRIAS JÁ FATURAVAM OS VEÍCULOS DIRETAMENTE PARA OS ADQUIRENTES, DAÍ PORQUE NÃO LANÇAVA TAIS OPERAÇÕES NOS LIVROS PRÓPRIOS. O AUTO DE INFRAÇÃO ACOSTADO AOS AUTOS É O FORTE ELEMENTO DE PROVA, EIS QUE PRODUZIDO AO CURSO DE AÇÃO LEGAL DESENVOLVIDA PELA FISCALIZAÇÃO TRIBUTÁRIA DO DF, E QUE NÃO FOI EM NENHUM MOMENTO CONTRADITADO VALIDAMENTE PELA DEFESA. O FATO DO ACUSADO EFETUAR OPERAÇÕES DE COMPRA E VENDA MERCANTIL DE VEÍCULOS NOVOS E USADOS SEM A NECESSÁRIA E INDISPENSÁVEL EMISSÃO DA NOTA FISCAL COMPROBATÓRIA DA OPERAÇÃO E DE IDENTIFICAÇÃO DO TRIBUTO DEVIDO, CONFIGURA O TIPO DO ART. 1°, V, DA LEI 8.137/90. A DOSIMETRIA DA PENA ATENDE À EXAUSTÃO AS CIRCUNSTÂNCIAS JUDICIAIS DO ART. 59, DO CPB, DE SALIENTAR QUE OS INÚMEROS INQUÉRITOS E PROCESSOS EXISTENTES CONTRA OS ACUSADOS SE ORIGINARAM TODOS DE UM ÚNICO EVENTO, DE SORTE QUE O VOLUME DE INQUÉRITOS E PROCESSOS NÃO SERVE PARA DEMONSTRAR E AUMENTAR OS MAUS ANTECEDENTES DO ACUSADO. A PENA DEVE SER FIXADA EM ATENÇÃO APENAS À ANÁLISE DAS CIRCUNSTÂNCIAS JUDICIAIS DO ART. 59, DO CPB, E NÃO EM ATENÇÃO AO NÚMERO DE VÍTIMAS OU DE VALORES FISCAIS NÃO RECOLHIDOS, JÁ QUE ESTES DEVEM SER BUSCADOS EM AÇÃO PRÓPRIA. RECURSOS CONHECIDOS E IMPROVIDOS.\n",
      "----\n",
      "PENAL. ARTIGO 1º, V, DA LEI 8.137/90. PROCESSO ADMINISTRATIVO ENCERRADO. CONSTITUIÇÃO DO CRÉDITO TRIBUTÁRIO. INÉPCIA DA INICIAL AFASTADA. LAUDO PERICIAL - PRESCINDIBILIDADE. PRELIMINARES DE NULIDADE REJEITADAS. ABSOLVIÇÃO POR INSUFICIÊNCIA DE PROVAS - INVIABILIDADE. RECURSO NÃO-PROVIDO. CONSTITUÍDO DEFINITIVAMENTE O CRÉDITO TRIBUTÁRIO EM SEDE ADMINISTRATIVA, TEM-SE POR CARACTERIZADO, NO PLANO DA TIPICIDADE PENAL, O CRIME PREVISTO NO ART. 1º DA LEI Nº 8.137/90. OBSERVADOS OS REQUISITOS DO ART. 41 DO CPP E RELATADA NA DENÚNCIA A OCORRÊNCIA DO FATO GERADOR DA INFRAÇÃO, NÃO HÁ QUE SE FALAR EM INÉPCIA. O AUTO DE INFRAÇÃO PRESCINDE DE PERÍCIA TÉCNICA QUANDO EXISTIREM NOS AUTOS OUTROS ELEMENTOS QUE DEMONSTREM A MATERIALIDADE DO CRIME DE EVASÃO FISCAL (PRECEDENTES DO SUPERIOR TRIBUNAL DE JUSTIÇA). SE AS PROVAS CONSTANTES DOS AUTOS SÃO ROBUSTAS, APOIADAS EM DOCUMENTOS E NO DEPOIMENTO DE TESTEMUNHA, REJEITA-SE O PLEITO ABSOLUTÓRIO FUNDADO NO ART. 386, VI, DO CÓDIGO DE PROCESSO PENAL.\n",
      "----\n",
      "Assunto: Imposto sobre a Renda de Pessoa Jurídica - IRPJ Ano-calendário: 2007 LUCROS OBTIDOS POR CONTROLADA NO EXTERIOR. DISPONIBILIZAÇÃO. Para fim de determinação da base de cálculo do imposto de renda da pessoa jurídica (IRPJ) e da CSLL os lucros auferidos por controlada ou coligada no exterior são considerados disponibilizados para a controladora no Brasil na data do balanço no qual tiverem sido apurados. Lançamento procedente. LUCROS OBTIDOS POR CONTROLADA NO EXTERIOR. CONVENÇÃO BRASIL-PAÍSES BAIXOS DESTINADA A EVITAR A DUPLA TRIBUTAÇÃO E PREVENIR A EVASÃO FISCAL EM MATÉRIA DE IMPOSTO SOBRE A RENDA. ART. 74 DA MP Nº 2.158 35/2001. NÃO OFENSA. Não há incompatibilidade entre a Convenção Brasil-Holanda (Países Baixos) e a aplicação do art. 74 da Medida Provisória nº 2.158-35/2001, não sendo caso de aplicação do art. 98 do CTN, por inexistência de conflito. COMPENSAÇÃO DE PREJUÍZOS FISCAIS DE CONTROLADA NO EXTERIOR COM OS SEUS PRÓPRIOS PREJUÍZOS. Os prejuízos apurados por uma controlada ou coligada, no exterior, podem ser compensados com lucros dessa mesma controlada ou coligada. Recurso Especial do Contribuinte Negado.\n",
      "----\n"
     ]
    },
    {
     "name": "stdout",
     "output_type": "stream",
     "text": [
      "Assunto: Imposto sobre a Renda de Pessoa Jurídica - IRPJ Ano-calendário: 2007 LUCROS OBTIDOS POR CONTROLADA NO EXTERIOR. DISPONIBILIZAÇÃO. Para fim de determinação da base de cálculo do imposto de renda da pessoa jurídica (IRPJ) e da CSLL os lucros auferidos por controlada ou coligada no exterior são considerados disponibilizados para a controladora no Brasil na data do balanço no qual tiverem sido apurados. Lançamento procedente. LUCROS OBTIDOS POR CONTROLADA NO EXTERIOR. CONVENÇÃO BRASIL-PAÍSES BAIXOS DESTINADA A EVITAR A DUPLA TRIBUTAÇÃO E PREVENIR A EVASÃO FISCAL EM MATÉRIA DE IMPOSTO SOBRE A RENDA. ART. 74 DA MP Nº 2.158 35/2001. NÃO OFENSA. Não há incompatibilidade entre a Convenção Brasil-Holanda (Países Baixos) e a aplicação do art. 74 da Medida Provisória nº 2.158-35/2001, não sendo caso de aplicação do art. 98 do CTN, por inexistência de conflito. Recurso Especial do Contribuinte Negado.\n",
      "----\n",
      "Assunto: Imposto sobre a Renda de Pessoa Jurídica - IRPJ Ano-calendário: 2005, 2006 LUCROS OBTIDOS POR CONTROLADA NO EXTERIOR. CONVENÇÃO BRASIL-PAÍSES BAIXOS DESTINADA A EVITAR A DUPLA TRIBUTAÇÃO E PREVENIR A EVASÃO FISCAL EM MATÉRIA DE IMPOSTO SOBRE A RENDA. ART. 74 DA MP Nº 2.158 35/2001. NÃO OFENSA. Não há incompatibilidade entre a Convenção Brasil-Holanda (Países Baixos) e a aplicação do art. 74 da Medida Provisória nº 2.158-35/2001, não sendo caso de aplicação do art. 98 do CTN, por inexistência de conflito. LUCROS OBTIDOS POR CONTROLADA NO EXTERIOR. DISPONIBILIZAÇÃO. Para fim de determinação da base de cálculo do imposto de renda da pessoa jurídica (IRPJ) e da CSLL os lucros auferidos por controlada ou coligada no exterior são considerados disponibilizados para a controladora no Brasil na data do balanço no qual tiverem sido apurados. Lançamento procedente. Recurso Especial do Procurador Provido. Recurso Especial do Contribuinte Negado.\n",
      "----\n",
      "Assunto: Imposto sobre a Renda de Pessoa Jurídica - IRPJ Ano-calendário: 2009 PROCESSUAL - ADMINISTRATIVO - INOVAÇÃO DA MATÉRIA EM SEDE DE RECURSO VOLUNTÁRIO - PRECLUSÃO Não se conhece de recurso voluntário na parte em que inova a matéria discutida nos autos, ante inegável preclusão tipificada a partir das disposições do art. 17 do Decreto 70.235/72. PROCESSUAL - NULIDADE - ALEGADA VIOLAÇÃO AO ART. 10 DO DECRETO 70.235 - PRINCÍPIO DA AMPLA INSTRUÇÃO PROBATÓRIA - DESCABIMENTO Pelo princípio da ampla instrução probatória é essencial que seja franqueado ao administrado acompanhar eventuais diligências fiscais que demandem a produção de provas especiais, como perícias ou análises de equipamentos, e quejandos. Descabe semelhante exigência, contudo, quando o trabalho fiscal se limita à análise de livros e documentos apresentados pelo próprio contribuinte. ADMINISTRATIVO - NULIDADE - FALTA DE FUNDAMENTAÇÃO - INOCORRÊNCIA Verificada a identificação dos fatos e do direito à eles aplicáveis, descabe alegar-se a nulidade do ato de lançamento; o erro de interpretação do fato ou do direito é matéria de mérito e não de preliminar. ELISÃO FISCAL X EVASÃO FISCAL - FRAUDE CARACTERIZADA O planejamento tributário é permitido pela legislação pátria; não se pode confundir, contudo, a elisão com a evasão fiscal, esta última ilícita justamente por comportar a prática de atos fraudulentos à sua consecução. ALEGAÇÃO DE INCONSTITUCIONALIDADE DE NORMAS - MULTA DE OFÍCIO E JUROS DE MORA - SUMULA 4 DO CARF Descabe a este Conselho se pronunciar sobre a constitucionalidade de normas tal qual preconiza a Sumula 4 deste CARF.\n",
      "----\n",
      "urn:lex:br:conselho.administrativo.recursos.fiscais;secao.julgamento.1;camara.3;turma.ordinaria.2:acordao:2018-02-20;1302-002.579,7197932\n",
      "----\n",
      "SISTEMA INTEGRADO DE PAGAMENTOS DE IMPOSTOS E CONTRIBUIÇÕES DAS MICROEMPRESAS E DAS EMPRESAS DE PEQUENO PORTE - SIMPLES Exercício: 2004 SIMPLES. EXCLUSÃO. INTERPOSTAS PESSOAS. EMPRESAS COLIGADAS. UNICIDADE NEGOCIAL. SIMULAÇÃO JURÍDICA. EVASÃO FISCAL. Exclui-se do Simples a empresa que se utiliza de interpostas pessoas para compor o quadro societário e que é utilizada, junto com outras, para a prática de atos jurídicos simulados objetivando fraudar a administração tributária e os segurados previdenciários. NULIDADE. AUSÊNCIA DE MPF. INSTRUMENTO DE CONTROLE INTERNO. A ausência do MPF - Mandado de Procedimento de Fiscalização em procedimento administrativo oriundo de representação fiscal, encaminhada a superior hierárquico, para ensejar Ato Declaratório Executivo de exclusão do Simples não vicia o procedimento calcado nas normas tributárias vigentes. NULIDADE. ACÓRDÃO. CERCEAMENTO DE DEFESA. INDEFERIMENTO DE PERÍCIA. Justificado pela turma julgadora de primeira instância que entende ser prescindível a realização de diligência/perícia em face ao conjunto probatório constante dos autos, não há cerceamento de defesa.\n",
      "----\n",
      "Habeas corpus impetrado visando ao trancamento da ação penal em relação aos delitos de \"lavagem\" de dinheiro e evasão de divisas, sob o fundamento de que o delito tributário, seu antecedente lógico, tivera trancada a ação penal respectiva, por falta de condição de punibilidade. Autonomia concreta entre os três delitos. Descabe o trancamento da ação penal que tem por objeto os delitos de evasão de divisas, lavagem de dinheiro. ORDEM DENEGADA. Decisão Vistos, relatados e discutidos os autos em que são partes as acima indicadas, prosseguindo no julgamento após voto vista do Sr. Ministro Og Fernandes denegando a ordem, acordam os Ministros da Sexta Turma do Superior Tribunal de Justiça, por maioria, denegar a ordem de habeas corpus, nos termos do voto do Sr. Ministro Relator. Vencidos os Srs. Ministros Nilson Naves e Maria Thereza de Assis Moura, que a concediam. Os Srs. Ministros Haroldo Rodrigues (Desembargador convocado do TJ/CE) e Og Fernandes votaram com o Sr. Ministro Relator. Presidiu o julgamento o Sr. Ministro Nilson Naves.\n",
      "----\n",
      "Assunto: Normas de Administração Tributária Ano-calendário: 2007, 2008 FALTA DE PAGAMENTO DE ESTIMATIVAS MENSAIS DE IRPJ E DE CSLL. MULTA ISOLADA. CABIMENTO. A partir do advento da Medida Provisória nº 351/2007, convertida na Lei nº 11.488/2007, tornou-se juridicamente indiscutível o cabimento da multa isolada imposta pela falta de pagamento das estimativas mensais do IRPJ e da CSLL, ainda que cumulativamente haja imposição da multa de ofício proporcional ao imposto e à contribuição social devidos ao final do respectivo ano-calendário. Assunto: Processo Administrativo Fiscal Ano-calendário: 2005, 2006, 2007, 2008 RECURSO ESPECIAL. CONHECIMENTO. IMPOSSIBILIDADE. Não se conhece do recurso especial quando, nos aspectos relevantes para a tomada da decisão, existe distinção entre o suporte fático presente no caso decidido pela Turma recorrida, e aquele presente nos casos objetos dos acórdãos paradigmas. Assunto: Normas Gerais de Direito Tributário Ano-calendário: 2005, 2006, 2007, 2008 RESPONSABILIDADE TRIBUTÁRIA. INTERESSE COMUM QUALIFICADO. ART. 124, I, DO CTN. Em razão de seu interesse comum qualificado, é responsável pelos créditos tributários devidos pela contribuinte a pessoa física ou jurídica que, em conluio com esta, pratica atos com vistas à evasão do pagamento dos tributos e contribuições devidos à Fazenda Pública.\n",
      "----\n",
      "PROCESSO PENAL - SONEGAÇÃO FISCAL - FORMAÇÃO DE QUADRILHA - EVASÃO DE DIVISAS - LAVAGEM DE DINHEIRO - FALSIDADE DOCUMENTAL - AMEAÇA - DESACATO - PRISÃO PREVENTIVA - NECESSIDADE. - Pela leitura da imputação fática que recai sobre o paciente, bem como pela decisão que determinou sua segregação cautelar, observa-se que, além da magnitude da lesão causada ? diga-se de passagem que é extremada ?, o magistrado local lastreou-se em outras circunstâncias que, a meu sentir, reforçam a necessidade de sua manutenção sob cárcere. Com efeito, a materialidade e indícios de autoria, como ressaltado, encontram-se incontroversos. O acusado responde a diversas ações penais, sendo que três processos e um inquérito foram perpetrados após a revogação de um outro decreto de prisão preventiva que pesava sobre si, o que demonstra a sua inclinação para a prática delituosa. Ressalte-se, ainda, que uma das testemunhas arroladas pela defesa, Sandra Terezinha Mielczarski, cujo depoimento é essencial para o deslinde do processo, simplesmente desapareceu após ter prestado declarações para os Auditores Fiscais de Porto Alegre afirmando que jamais outorgou procurações ao representado. Segundo depoimento do tabelião do 5º Ofício de notas desta capital, a referida testemunha, ao proceder à retratação em cartório fazia-se acompanhar do acusado, não podendo ser outra a conclusão, como salientado pelo acórdão guerreado, de que o paciente pode estar ocultando o seu paradeiro. - Afora todas as circunstâncias aqui expostas, acrescente-se que consta, ainda, dos autos que o paciente coagiu e proferiu ameaças a auditores fiscais, atribuindo-lhes também práticas criminosas, além de suscitar suspeições de membros do Ministério Público e da Magistratura. A decisão guerreada ressalta, ainda, que o paciente possui imóveis e inscrição na previdência social americana, o que poderia levá-lo, se colocado em liberdade, a evadir-se do país. - A prisão cautelar, no caso, levou em consideração não só a repercussão do crime, mas, também, os pressupostos do art. 312, do Código de Processo Penal. Deste modo, com fundamento no art. 30, da Lei nº 7.492/86 (magnitude da lesão) e art. 312, do CPP, foi decretada a constrição cautelar do paciente. Decisão Vistos, relatados e discutidos estes autos, acordam os Srs. Ministros da Quinta Turma do Superior Tribunal de Justiça em, na conformidade dos votos e das notas taquigráficas a seguir, por maioria, denegar a ordem. Votaram com o Sr. Ministro Relator os Srs. Ministros JOSÉ ARNALDO DA FONSECA e FELIX FISCHER. Votaram vencidos os Srs. Ministros EDSON VIDIGAL e GILSON DIPP.\n",
      "----\n",
      "Assunto: Normas Gerais de Direito Tributário Ano-calendário: 2000 MULTA DE OFÍCIO QUALIFICADA. SIMULAÇÃO. Com a qualificação dos atos praticados pelo contribuinte como simulação, com a caracterização do dolo para a evasão de tributos, cabível a multa de ofício de 150%. MULTA ISOLADA. SÚMULA CARF 105. A multa isolada por falta de recolhimento de estimativas, lançada com fundamento no art. 44, § 1º, inciso IV, da Lei nº 9.430, de 1996, não pode ser exigida ao mesmo tempo da multa de ofício por falta de pagamento de IRPJ e CSLL apurado no ajuste anual, devendo subsistir a multa de ofício.\n",
      "----\n",
      "Assunto: Imposto sobre a Renda de Pessoa Física - IRPF Ano-calendário: 2010 RECURSO DE OFÍCIO. NÃO PROVIMENTO. IRPF. RENDIMENTOS RECEBIDOS NO EXTERIOR POR RESIDENTE NO BRASIL. Os rendimentos recebidos na Argentina não são tributáveis no Brasil nos termos da Convenção Destinada a Evitar a Dupla Tributação e Prevenir a Evasão Fiscal em Matéria de Impostos sobre a Renda celebrada entre Brasil e Argentina. A pessoa física considerada residente em ambos estados contratantes (Brasil e Argentina), possuindo habitação permanente em ambos Estados Contratantes, comprovando ligações pessoais e econômicas estreitas com um dos Estados Contratantes (Argentina), para efeitos fiscais, é considerado não-residente no Brasil e residente na Argentina, nos termos do Decreto n° 87.896, de 22 de dezembro de 1982 (Convenção Brasil-Argentina).\n",
      "----\n",
      "urn:lex:br:conselho.administrativo.recursos.fiscais;secao.julgamento.2;camara.3;turma.ordinaria.1:acordao:2018-10-03;2301-005.685,7514167\n",
      "----\n",
      "Assunto: Imposto sobre a Renda de Pessoa Jurídica - IRPJ Ano-calendário: 2008 LUCROS OBTIDOS POR CONTROLADA NO EXTERIOR. CONVENÇÃO BRASIL-ARGENTINA DESTINADA A EVITAR A DUPLA TRIBUTAÇÃO E PREVENIR A EVASÃO FISCAL EM MATÉRIA DE IMPOSTO SOBRE ARENDA. ART. 74 DA MP Nº 2.158-35/2001. NÃO OFENSA. Não há incompatibilidade entre a Convenção Brasil-Argentina e a aplicação do art. 74 da Medida Provisória nº 2.158-35/2001, não sendo caso de aplicação do art. 98 do CTN, por inexistência de conflito. TRATADO INTERNACIONAL BRASIL-ARGENTINA. O Tratado firmado entre Brasil e Argentina não impede a tributação na controladora no Brasil dos lucros auferidos por controlada no exterior.\n",
      "----\n",
      "urn:lex:br:conselho.administrativo.recursos.fiscais;secao.julgamento.1;camara.4;turma.ordinaria.2:acordao:2017-05-16;1402-002.494,6845101\n",
      "----\n"
     ]
    },
    {
     "name": "stdout",
     "output_type": "stream",
     "text": [
      "Assunto: Processo Administrativo Fiscal Ano-calendário: 2006 Ementa: NULIDADE DE LANÇAMENTO Constatada a inexistência de qualquer das hipóteses previstas no art. 59 do Decreto nº 70.235/72, não há nulidade do lançamento de ofício. DECADÊNCIA. LANÇAMENTO POR HOMOLOGAÇÃO. Existindo o pagamento antecipado sobre os tributos constituídos através do lançamento por homologação, o prazo decadencial sobre eventuais diferenças é de cinco anos, iniciando a partir do fato gerador, quando não constatado dolo, fraude ou simulação (Art. 150, § 4º, do CTN). INCONSTITUCIONALIDADE. ILEGALIDADE. ARGUIÇÃO. MULTA DE OFÍCIO. JUROS PELA TAXA SELIC. O Conselho Administrativo de Recursos Fiscais não é competente para se pronunciar sobre a inconstitucionalidade de lei tributária, conforme sua Súmula nº 2. O lançamento de ofício proporciona a exigibilidade da multa de ofício de 75%, com acréscimo dos juros de mora pela taxa SELIC, incidindo sobre a totalidade ou a diferença dos tributos apurados. OMISSÃO DE RECEITA. DEPÓSITOS BANCÁRIOS. ORIGEM. Caracterizam omissão de receita, por presunção legal, os valores creditados em conta de depósito mantida junto a instituição financeira, em relação aos quais o titular, regularmente intimado, não comprove, mediante documentação hábil e idônea, a origem dos recursos utilizados nessas operações. OUTROS TRIBUTOS OU CONTRIBUIÇÕES. LANÇAMENTO REFLEXO. Havendo a omissão de receita tributável pelo IRPJ, aplica-se idêntico entendimento aos demais tributos ou contribuições sociais, com a incidência sobre os mesmos fatos. RESPONSABILIDADE SOLIDÁRIA. Indispensável que a autoridade fiscal evidencie a conduta dolosa da pessoa física, esclarecendo seu interesse comum e direto na evasão fiscal, sendo insuficiente a mera a acusação de que a movimentação financeira, omitida da escrituração fiscal e contábil, ocasiona a responsabilidade solidária de quem integrava administração da sociedade ou era seu mandatário.\n",
      "----\n",
      "urn:lex:br:conselho.administrativo.recursos.fiscais;secao.julgamento.1;camara.2;turma.ordinaria.1:acordao:2018-10-17;1201-002.623,7538583\n",
      "----\n",
      "Assunto: Processo Administrativo Fiscal Período de apuração: 01/01/2008 a 30/06/2009 AUTO DE INFRAÇÃO -NULIDADE - AUSÊNCIA DE EMISSÃO DE ATO DECLARATÓRIO DE EXCLUSÃO DO SIMPLES PELA SRF - INOCORRÊNCIA DE DESCONSIDERAÇÃO DA PERSONALIDADE JURÍDICA - INAPLICABILIDADE DA EXIGÊNCIA. O ATO DECLARATÓRIO seria exigido, caso houvesse a desconsideração da opção pelo SIMPLES, devendo, apenas neste caso, ser feita a comunicação a então Secretaria da Receita Federal, para realizar a emissão do Ato Declaratório. No procedimento em questão a AUTORIDADE FISCAL EM IDENTIFICANDO a caracterização do vínculo empregatício com empresa que simulou a contratação por intermédio de empresas interpostas, procedeu a caracterização do vínculo para efeitos previdenciários na empresa notificada, que era a verdadeira empregadora de fato. LANÇAMENTO. NULIDADE. CERCEAMENTO DO DIREITO DE DEFESA E DO CONTRADITÓRIO. INOCORRÊNCIA. A não impugnação expressa dos fatos geradores objeto do lançamento importa em renúncia e conseqüente concordância com os termos do AI. Quanto aos argumentos de que a empresa na verdade realizava planejamento tributário, o que demonstra a prática de elisão fiscal, e não evasão fiscal entendo que nos termos do § 6.º do art. 9.º da Portaria MPS/GM n.º 520/2004 c/c art. 17 do Decreto n.º 70.235/1972, a abrangência da lide é determinada pelas alegações constantes na impugnação, não devendo ser consideradas no recurso as matérias que não tenham sido aventadas na peça de defesa. INCONSTITUCIONALIDADE - ILEGALIDADE DE LEI E CONTRIBUIÇÃO - IMPOSSIBILIDADE DE APRECIAÇÃO NA ESFERA ADMINISTRATIVA. A verificação de inconstitucionalidade de ato normativo é inerente ao Poder Judiciário, não podendo ser apreciada pelo órgão do Poder Executivo. O CARF não é competente para se pronunciar sobre a inconstitucionalidade de lei tributária. AUTO DE INFRAÇÃO - OBRIGAÇÃO ACESSÓRIA - AI nº 37.329.563-4 - AI nº 37.329.564-2 - ARTIGO 32, IV, § 5º E ARTIGO 41 DA LEI N.º 8.212/91 C/C ARTIGO 284, II DO RPS, APROVADO PELO DECRETO N.º 3.048/99 - AI - OBRIGAÇÃO PRINCIPAL CORRELATOS CORRELATAS A sorte de Autos de Infração relacionados a omissão em GFIP, está diretamente relacionado ao resultado das NFLD lavradas sobre os mesmos fatos geradores. OMISSÃO EM GFIP - MULTA - RETROATIVIDADE BENIGNA Na superveniência de legislação que estabeleça novos critérios para a apuração da multa por descumprimento de obrigação acessória, faz-se necessário verificar se a sistemática atual é mais favorável ao contribuinte que a anterior. Recurso Voluntário Provido em Parte\n",
      "----\n",
      "urn:lex:br:conselho.administrativo.recursos.fiscais;secao.julgamento.2;camara.4;turma.ordinaria.1:acordao:2012-11-22;2401-002.806,5001577\n",
      "----\n",
      "OK\n"
     ]
    }
   ],
   "source": [
    "status = pega_recurso()\n",
    "print (status)\n",
    "fecha()"
   ]
  }
 ],
 "metadata": {
  "kernelspec": {
   "display_name": "Python 3",
   "language": "python",
   "name": "python3"
  },
  "language_info": {
   "codemirror_mode": {
    "name": "ipython",
    "version": 3
   },
   "file_extension": ".py",
   "mimetype": "text/x-python",
   "name": "python",
   "nbconvert_exporter": "python",
   "pygments_lexer": "ipython3",
   "version": "3.6.5"
  }
 },
 "nbformat": 4,
 "nbformat_minor": 2
}
